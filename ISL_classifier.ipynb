{
  "cells": [
    {
      "cell_type": "code",
      "execution_count": 1,
      "metadata": {
        "id": "JIOzYKNkOh1t"
      },
      "outputs": [],
      "source": [
        "import pandas as pd\n",
        "import numpy as np\n",
        "import matplotlib.pyplot as plt\n",
        "import tensorflow as tf\n",
        "from tensorflow import keras\n",
        "from tensorflow.keras import layers\n",
        "from sklearn.model_selection import train_test_split\n",
        "from sklearn.preprocessing import LabelEncoder\n",
        "from sklearn.metrics import accuracy_score, precision_score, recall_score, f1_score\n",
        "\n"
      ]
    },
    {
      "cell_type": "code",
      "execution_count": 2,
      "metadata": {
        "id": "4on_iLLLO87q"
      },
      "outputs": [
        {
          "name": "stderr",
          "output_type": "stream",
          "text": [
            "C:\\Users\\Kanan\\AppData\\Local\\Temp\\ipykernel_15048\\2815074641.py:1: DtypeWarning: Columns (0) have mixed types. Specify dtype option on import or set low_memory=False.\n",
            "  data = pd.read_csv('keypoint.csv',header=None)\n"
          ]
        }
      ],
      "source": [
        "data = pd.read_csv('keypoint.csv',header=None)"
      ]
    },
    {
      "cell_type": "code",
      "execution_count": 3,
      "metadata": {
        "id": "QfkE0RZmguGd"
      },
      "outputs": [],
      "source": [
        "data[0] = data[0].astype(str)"
      ]
    },
    {
      "cell_type": "code",
      "execution_count": 4,
      "metadata": {
        "colab": {
          "base_uri": "https://localhost:8080/"
        },
        "id": "SyrM0MDTPiGl",
        "outputId": "7189ea03-20f9-4519-d555-84d46e4f2794"
      },
      "outputs": [
        {
          "data": {
            "text/plain": [
              "array(['A', 'B', 'C', 'D', 'E', 'F', 'G', 'H', 'I', 'J', 'K', 'L', 'M',\n",
              "       'N', 'O', 'P', 'Q', 'R', 'S', 'T', 'U', 'V', 'W', 'X', 'Y', 'Z',\n",
              "       '1', '2', '3', '4', '5', '6', '7', '8', '9'], dtype=object)"
            ]
          },
          "execution_count": 4,
          "metadata": {},
          "output_type": "execute_result"
        }
      ],
      "source": [
        "data[0].unique()"
      ]
    },
    {
      "cell_type": "code",
      "execution_count": 5,
      "metadata": {
        "colab": {
          "base_uri": "https://localhost:8080/",
          "height": 487
        },
        "id": "OC5TcyT9U63v",
        "outputId": "a07aab43-c24a-40da-a50e-eef9f04f4f4d"
      },
      "outputs": [
        {
          "data": {
            "text/html": [
              "<div>\n",
              "<style scoped>\n",
              "    .dataframe tbody tr th:only-of-type {\n",
              "        vertical-align: middle;\n",
              "    }\n",
              "\n",
              "    .dataframe tbody tr th {\n",
              "        vertical-align: top;\n",
              "    }\n",
              "\n",
              "    .dataframe thead th {\n",
              "        text-align: right;\n",
              "    }\n",
              "</style>\n",
              "<table border=\"1\" class=\"dataframe\">\n",
              "  <thead>\n",
              "    <tr style=\"text-align: right;\">\n",
              "      <th></th>\n",
              "      <th>1</th>\n",
              "      <th>2</th>\n",
              "      <th>3</th>\n",
              "      <th>4</th>\n",
              "      <th>5</th>\n",
              "      <th>6</th>\n",
              "      <th>7</th>\n",
              "      <th>8</th>\n",
              "      <th>9</th>\n",
              "      <th>10</th>\n",
              "      <th>...</th>\n",
              "      <th>33</th>\n",
              "      <th>34</th>\n",
              "      <th>35</th>\n",
              "      <th>36</th>\n",
              "      <th>37</th>\n",
              "      <th>38</th>\n",
              "      <th>39</th>\n",
              "      <th>40</th>\n",
              "      <th>41</th>\n",
              "      <th>42</th>\n",
              "    </tr>\n",
              "  </thead>\n",
              "  <tbody>\n",
              "    <tr>\n",
              "      <th>0</th>\n",
              "      <td>0.0</td>\n",
              "      <td>0.0</td>\n",
              "      <td>-0.324324</td>\n",
              "      <td>-0.189189</td>\n",
              "      <td>-0.621622</td>\n",
              "      <td>-0.378378</td>\n",
              "      <td>-0.837838</td>\n",
              "      <td>-0.594595</td>\n",
              "      <td>-1.000000</td>\n",
              "      <td>-0.837838</td>\n",
              "      <td>...</td>\n",
              "      <td>-0.162162</td>\n",
              "      <td>0.162162</td>\n",
              "      <td>0.162162</td>\n",
              "      <td>0.108108</td>\n",
              "      <td>-0.162162</td>\n",
              "      <td>0.378378</td>\n",
              "      <td>-0.108108</td>\n",
              "      <td>0.351351</td>\n",
              "      <td>0.027027</td>\n",
              "      <td>0.270270</td>\n",
              "    </tr>\n",
              "    <tr>\n",
              "      <th>1</th>\n",
              "      <td>0.0</td>\n",
              "      <td>0.0</td>\n",
              "      <td>0.279070</td>\n",
              "      <td>-0.162791</td>\n",
              "      <td>0.604651</td>\n",
              "      <td>-0.372093</td>\n",
              "      <td>0.837209</td>\n",
              "      <td>-0.511628</td>\n",
              "      <td>1.000000</td>\n",
              "      <td>-0.720930</td>\n",
              "      <td>...</td>\n",
              "      <td>0.348837</td>\n",
              "      <td>0.093023</td>\n",
              "      <td>0.069767</td>\n",
              "      <td>0.069767</td>\n",
              "      <td>0.418605</td>\n",
              "      <td>0.279070</td>\n",
              "      <td>0.325581</td>\n",
              "      <td>0.279070</td>\n",
              "      <td>0.186047</td>\n",
              "      <td>0.209302</td>\n",
              "    </tr>\n",
              "    <tr>\n",
              "      <th>2</th>\n",
              "      <td>0.0</td>\n",
              "      <td>0.0</td>\n",
              "      <td>-0.324324</td>\n",
              "      <td>-0.162162</td>\n",
              "      <td>-0.621622</td>\n",
              "      <td>-0.378378</td>\n",
              "      <td>-0.864865</td>\n",
              "      <td>-0.567568</td>\n",
              "      <td>-1.000000</td>\n",
              "      <td>-0.810811</td>\n",
              "      <td>...</td>\n",
              "      <td>-0.189189</td>\n",
              "      <td>0.162162</td>\n",
              "      <td>0.135135</td>\n",
              "      <td>0.135135</td>\n",
              "      <td>-0.189189</td>\n",
              "      <td>0.405405</td>\n",
              "      <td>-0.108108</td>\n",
              "      <td>0.378378</td>\n",
              "      <td>0.000000</td>\n",
              "      <td>0.297297</td>\n",
              "    </tr>\n",
              "    <tr>\n",
              "      <th>3</th>\n",
              "      <td>0.0</td>\n",
              "      <td>0.0</td>\n",
              "      <td>0.279070</td>\n",
              "      <td>-0.162791</td>\n",
              "      <td>0.604651</td>\n",
              "      <td>-0.372093</td>\n",
              "      <td>0.837209</td>\n",
              "      <td>-0.534884</td>\n",
              "      <td>1.000000</td>\n",
              "      <td>-0.720930</td>\n",
              "      <td>...</td>\n",
              "      <td>0.348837</td>\n",
              "      <td>0.116279</td>\n",
              "      <td>0.069767</td>\n",
              "      <td>0.069767</td>\n",
              "      <td>0.395349</td>\n",
              "      <td>0.279070</td>\n",
              "      <td>0.325581</td>\n",
              "      <td>0.302326</td>\n",
              "      <td>0.209302</td>\n",
              "      <td>0.232558</td>\n",
              "    </tr>\n",
              "    <tr>\n",
              "      <th>4</th>\n",
              "      <td>0.0</td>\n",
              "      <td>0.0</td>\n",
              "      <td>-0.297297</td>\n",
              "      <td>-0.162162</td>\n",
              "      <td>-0.621622</td>\n",
              "      <td>-0.378378</td>\n",
              "      <td>-0.837838</td>\n",
              "      <td>-0.567568</td>\n",
              "      <td>-1.000000</td>\n",
              "      <td>-0.810811</td>\n",
              "      <td>...</td>\n",
              "      <td>-0.162162</td>\n",
              "      <td>0.162162</td>\n",
              "      <td>0.162162</td>\n",
              "      <td>0.108108</td>\n",
              "      <td>-0.162162</td>\n",
              "      <td>0.405405</td>\n",
              "      <td>-0.108108</td>\n",
              "      <td>0.378378</td>\n",
              "      <td>0.027027</td>\n",
              "      <td>0.297297</td>\n",
              "    </tr>\n",
              "    <tr>\n",
              "      <th>...</th>\n",
              "      <td>...</td>\n",
              "      <td>...</td>\n",
              "      <td>...</td>\n",
              "      <td>...</td>\n",
              "      <td>...</td>\n",
              "      <td>...</td>\n",
              "      <td>...</td>\n",
              "      <td>...</td>\n",
              "      <td>...</td>\n",
              "      <td>...</td>\n",
              "      <td>...</td>\n",
              "      <td>...</td>\n",
              "      <td>...</td>\n",
              "      <td>...</td>\n",
              "      <td>...</td>\n",
              "      <td>...</td>\n",
              "      <td>...</td>\n",
              "      <td>...</td>\n",
              "      <td>...</td>\n",
              "      <td>...</td>\n",
              "      <td>...</td>\n",
              "    </tr>\n",
              "    <tr>\n",
              "      <th>57822</th>\n",
              "      <td>0.0</td>\n",
              "      <td>0.0</td>\n",
              "      <td>-0.205479</td>\n",
              "      <td>0.246575</td>\n",
              "      <td>-0.506849</td>\n",
              "      <td>0.410959</td>\n",
              "      <td>-0.767123</td>\n",
              "      <td>0.547945</td>\n",
              "      <td>-0.958904</td>\n",
              "      <td>0.684932</td>\n",
              "      <td>...</td>\n",
              "      <td>-0.506849</td>\n",
              "      <td>-0.191781</td>\n",
              "      <td>-0.520548</td>\n",
              "      <td>-0.534247</td>\n",
              "      <td>-0.726027</td>\n",
              "      <td>-0.657534</td>\n",
              "      <td>-0.712329</td>\n",
              "      <td>-0.534247</td>\n",
              "      <td>-0.657534</td>\n",
              "      <td>-0.438356</td>\n",
              "    </tr>\n",
              "    <tr>\n",
              "      <th>57823</th>\n",
              "      <td>0.0</td>\n",
              "      <td>0.0</td>\n",
              "      <td>-0.208333</td>\n",
              "      <td>0.263889</td>\n",
              "      <td>-0.527778</td>\n",
              "      <td>0.430556</td>\n",
              "      <td>-0.777778</td>\n",
              "      <td>0.583333</td>\n",
              "      <td>-0.972222</td>\n",
              "      <td>0.722222</td>\n",
              "      <td>...</td>\n",
              "      <td>-0.513889</td>\n",
              "      <td>-0.180556</td>\n",
              "      <td>-0.527778</td>\n",
              "      <td>-0.513889</td>\n",
              "      <td>-0.750000</td>\n",
              "      <td>-0.625000</td>\n",
              "      <td>-0.708333</td>\n",
              "      <td>-0.513889</td>\n",
              "      <td>-0.652778</td>\n",
              "      <td>-0.416667</td>\n",
              "    </tr>\n",
              "    <tr>\n",
              "      <th>57824</th>\n",
              "      <td>0.0</td>\n",
              "      <td>0.0</td>\n",
              "      <td>-0.219178</td>\n",
              "      <td>0.260274</td>\n",
              "      <td>-0.520548</td>\n",
              "      <td>0.424658</td>\n",
              "      <td>-0.767123</td>\n",
              "      <td>0.575342</td>\n",
              "      <td>-0.958904</td>\n",
              "      <td>0.712329</td>\n",
              "      <td>...</td>\n",
              "      <td>-0.534247</td>\n",
              "      <td>-0.178082</td>\n",
              "      <td>-0.547945</td>\n",
              "      <td>-0.493151</td>\n",
              "      <td>-0.767123</td>\n",
              "      <td>-0.616438</td>\n",
              "      <td>-0.712329</td>\n",
              "      <td>-0.493151</td>\n",
              "      <td>-0.657534</td>\n",
              "      <td>-0.410959</td>\n",
              "    </tr>\n",
              "    <tr>\n",
              "      <th>57825</th>\n",
              "      <td>0.0</td>\n",
              "      <td>0.0</td>\n",
              "      <td>-0.194444</td>\n",
              "      <td>0.277778</td>\n",
              "      <td>-0.513889</td>\n",
              "      <td>0.444444</td>\n",
              "      <td>-0.777778</td>\n",
              "      <td>0.583333</td>\n",
              "      <td>-0.958333</td>\n",
              "      <td>0.722222</td>\n",
              "      <td>...</td>\n",
              "      <td>-0.513889</td>\n",
              "      <td>-0.180556</td>\n",
              "      <td>-0.527778</td>\n",
              "      <td>-0.500000</td>\n",
              "      <td>-0.750000</td>\n",
              "      <td>-0.625000</td>\n",
              "      <td>-0.722222</td>\n",
              "      <td>-0.513889</td>\n",
              "      <td>-0.666667</td>\n",
              "      <td>-0.402778</td>\n",
              "    </tr>\n",
              "    <tr>\n",
              "      <th>57826</th>\n",
              "      <td>0.0</td>\n",
              "      <td>0.0</td>\n",
              "      <td>-0.205479</td>\n",
              "      <td>0.273973</td>\n",
              "      <td>-0.520548</td>\n",
              "      <td>0.438356</td>\n",
              "      <td>-0.767123</td>\n",
              "      <td>0.589041</td>\n",
              "      <td>-0.958904</td>\n",
              "      <td>0.726027</td>\n",
              "      <td>...</td>\n",
              "      <td>-0.520548</td>\n",
              "      <td>-0.164384</td>\n",
              "      <td>-0.547945</td>\n",
              "      <td>-0.493151</td>\n",
              "      <td>-0.753425</td>\n",
              "      <td>-0.602740</td>\n",
              "      <td>-0.712329</td>\n",
              "      <td>-0.493151</td>\n",
              "      <td>-0.657534</td>\n",
              "      <td>-0.397260</td>\n",
              "    </tr>\n",
              "  </tbody>\n",
              "</table>\n",
              "<p>57827 rows × 42 columns</p>\n",
              "</div>"
            ],
            "text/plain": [
              "        1    2         3         4         5         6         7         8   \\\n",
              "0      0.0  0.0 -0.324324 -0.189189 -0.621622 -0.378378 -0.837838 -0.594595   \n",
              "1      0.0  0.0  0.279070 -0.162791  0.604651 -0.372093  0.837209 -0.511628   \n",
              "2      0.0  0.0 -0.324324 -0.162162 -0.621622 -0.378378 -0.864865 -0.567568   \n",
              "3      0.0  0.0  0.279070 -0.162791  0.604651 -0.372093  0.837209 -0.534884   \n",
              "4      0.0  0.0 -0.297297 -0.162162 -0.621622 -0.378378 -0.837838 -0.567568   \n",
              "...    ...  ...       ...       ...       ...       ...       ...       ...   \n",
              "57822  0.0  0.0 -0.205479  0.246575 -0.506849  0.410959 -0.767123  0.547945   \n",
              "57823  0.0  0.0 -0.208333  0.263889 -0.527778  0.430556 -0.777778  0.583333   \n",
              "57824  0.0  0.0 -0.219178  0.260274 -0.520548  0.424658 -0.767123  0.575342   \n",
              "57825  0.0  0.0 -0.194444  0.277778 -0.513889  0.444444 -0.777778  0.583333   \n",
              "57826  0.0  0.0 -0.205479  0.273973 -0.520548  0.438356 -0.767123  0.589041   \n",
              "\n",
              "             9         10  ...        33        34        35        36  \\\n",
              "0     -1.000000 -0.837838  ... -0.162162  0.162162  0.162162  0.108108   \n",
              "1      1.000000 -0.720930  ...  0.348837  0.093023  0.069767  0.069767   \n",
              "2     -1.000000 -0.810811  ... -0.189189  0.162162  0.135135  0.135135   \n",
              "3      1.000000 -0.720930  ...  0.348837  0.116279  0.069767  0.069767   \n",
              "4     -1.000000 -0.810811  ... -0.162162  0.162162  0.162162  0.108108   \n",
              "...         ...       ...  ...       ...       ...       ...       ...   \n",
              "57822 -0.958904  0.684932  ... -0.506849 -0.191781 -0.520548 -0.534247   \n",
              "57823 -0.972222  0.722222  ... -0.513889 -0.180556 -0.527778 -0.513889   \n",
              "57824 -0.958904  0.712329  ... -0.534247 -0.178082 -0.547945 -0.493151   \n",
              "57825 -0.958333  0.722222  ... -0.513889 -0.180556 -0.527778 -0.500000   \n",
              "57826 -0.958904  0.726027  ... -0.520548 -0.164384 -0.547945 -0.493151   \n",
              "\n",
              "             37        38        39        40        41        42  \n",
              "0     -0.162162  0.378378 -0.108108  0.351351  0.027027  0.270270  \n",
              "1      0.418605  0.279070  0.325581  0.279070  0.186047  0.209302  \n",
              "2     -0.189189  0.405405 -0.108108  0.378378  0.000000  0.297297  \n",
              "3      0.395349  0.279070  0.325581  0.302326  0.209302  0.232558  \n",
              "4     -0.162162  0.405405 -0.108108  0.378378  0.027027  0.297297  \n",
              "...         ...       ...       ...       ...       ...       ...  \n",
              "57822 -0.726027 -0.657534 -0.712329 -0.534247 -0.657534 -0.438356  \n",
              "57823 -0.750000 -0.625000 -0.708333 -0.513889 -0.652778 -0.416667  \n",
              "57824 -0.767123 -0.616438 -0.712329 -0.493151 -0.657534 -0.410959  \n",
              "57825 -0.750000 -0.625000 -0.722222 -0.513889 -0.666667 -0.402778  \n",
              "57826 -0.753425 -0.602740 -0.712329 -0.493151 -0.657534 -0.397260  \n",
              "\n",
              "[57827 rows x 42 columns]"
            ]
          },
          "execution_count": 5,
          "metadata": {},
          "output_type": "execute_result"
        }
      ],
      "source": [
        "X = data.iloc[:,1:]\n",
        "X"
      ]
    },
    {
      "cell_type": "code",
      "execution_count": 6,
      "metadata": {
        "id": "C6Fev9pFNPA4"
      },
      "outputs": [],
      "source": [
        "enc = LabelEncoder()"
      ]
    },
    {
      "cell_type": "code",
      "execution_count": 7,
      "metadata": {
        "colab": {
          "base_uri": "https://localhost:8080/"
        },
        "id": "GptfpfFZQ859",
        "outputId": "d8dcef55-f4b7-4b8b-adfb-2066770dd343"
      },
      "outputs": [
        {
          "name": "stderr",
          "output_type": "stream",
          "text": [
            "c:\\Users\\Kanan\\AppData\\Local\\Programs\\Python\\Python38\\lib\\site-packages\\sklearn\\preprocessing\\_label.py:114: DataConversionWarning: A column-vector y was passed when a 1d array was expected. Please change the shape of y to (n_samples, ), for example using ravel().\n",
            "  y = column_or_1d(y, warn=True)\n"
          ]
        },
        {
          "data": {
            "text/plain": [
              "array([9, 9, 9, ..., 8, 8, 8])"
            ]
          },
          "execution_count": 7,
          "metadata": {},
          "output_type": "execute_result"
        }
      ],
      "source": [
        "y = enc.fit_transform(data[[0]])\n",
        "y"
      ]
    },
    {
      "cell_type": "code",
      "execution_count": 8,
      "metadata": {
        "colab": {
          "base_uri": "https://localhost:8080/"
        },
        "id": "mXeK_Oh3lSGo",
        "outputId": "fd14d294-df98-4171-e4e1-da13d0c98ada"
      },
      "outputs": [
        {
          "name": "stdout",
          "output_type": "stream",
          "text": [
            "[9 9 9 ... 8 8 8]\n"
          ]
        }
      ],
      "source": [
        "print(y)"
      ]
    },
    {
      "cell_type": "code",
      "execution_count": 9,
      "metadata": {
        "id": "-725RwgrSiLh"
      },
      "outputs": [],
      "source": [
        "#from keras.callbacks import EarlyStopping\n",
        "#es = EarlyStopping(monitor='val_loss', mode='min', verbose=1, patience=2)"
      ]
    },
    {
      "cell_type": "code",
      "execution_count": 10,
      "metadata": {
        "id": "MoP6X2dFXtaq"
      },
      "outputs": [],
      "source": [
        "X_train, X_test, y_train, y_test = train_test_split(\n",
        "    X, y, test_size=0.2, random_state=42)"
      ]
    },
    {
      "cell_type": "code",
      "execution_count": 11,
      "metadata": {
        "id": "fwYKKiYKUDMp"
      },
      "outputs": [],
      "source": [
        "model = keras.Sequential([\n",
        "    layers.Dense(1470, activation='relu'),\n",
        "    layers.Dropout(0.5),\n",
        "    layers.Dense(832, activation='relu'),\n",
        "    layers.Dropout(0.5),\n",
        "    layers.Dense(428, activation='relu'),\n",
        "    layers.Dropout(0.5),\n",
        "    layers.Dense(264, activation='relu'),\n",
        "    layers.Dropout(0.5),\n",
        "    layers.Dense(35, activation='softmax')\n",
        "])"
      ]
    },
    {
      "cell_type": "code",
      "execution_count": 12,
      "metadata": {
        "id": "RZKhTkEfYd6i"
      },
      "outputs": [],
      "source": [
        "model.compile(loss = \"sparse_categorical_crossentropy\", optimizer = \"adam\", metrics=[\"accuracy\"])"
      ]
    },
    {
      "cell_type": "code",
      "execution_count": 13,
      "metadata": {
        "colab": {
          "base_uri": "https://localhost:8080/"
        },
        "id": "mLfTS486YqiG",
        "outputId": "4465dc13-0e94-4a54-d1b5-bb4c84e82635"
      },
      "outputs": [
        {
          "name": "stdout",
          "output_type": "stream",
          "text": [
            "Epoch 1/50\n",
            "579/579 [==============================] - 26s 42ms/step - loss: 1.0202 - accuracy: 0.6762 - val_loss: 0.1351 - val_accuracy: 0.9500\n",
            "Epoch 2/50\n",
            "579/579 [==============================] - 24s 41ms/step - loss: 0.2188 - accuracy: 0.9262 - val_loss: 0.0820 - val_accuracy: 0.9716\n",
            "Epoch 3/50\n",
            "579/579 [==============================] - 24s 41ms/step - loss: 0.1503 - accuracy: 0.9514 - val_loss: 0.0598 - val_accuracy: 0.9843\n",
            "Epoch 4/50\n",
            "579/579 [==============================] - 24s 42ms/step - loss: 0.1148 - accuracy: 0.9655 - val_loss: 0.0368 - val_accuracy: 0.9901\n",
            "Epoch 5/50\n",
            "579/579 [==============================] - 24s 42ms/step - loss: 0.0987 - accuracy: 0.9696 - val_loss: 0.0303 - val_accuracy: 0.9916\n",
            "Epoch 6/50\n",
            "579/579 [==============================] - 24s 42ms/step - loss: 0.0926 - accuracy: 0.9726 - val_loss: 0.0268 - val_accuracy: 0.9896\n",
            "Epoch 7/50\n",
            "579/579 [==============================] - 24s 42ms/step - loss: 0.0821 - accuracy: 0.9766 - val_loss: 0.0221 - val_accuracy: 0.9957\n",
            "Epoch 8/50\n",
            "579/579 [==============================] - 24s 42ms/step - loss: 0.0689 - accuracy: 0.9789 - val_loss: 0.0205 - val_accuracy: 0.9944\n",
            "Epoch 9/50\n",
            "579/579 [==============================] - 24s 42ms/step - loss: 0.0734 - accuracy: 0.9795 - val_loss: 0.0219 - val_accuracy: 0.9935\n",
            "Epoch 10/50\n",
            "579/579 [==============================] - 25s 42ms/step - loss: 0.0693 - accuracy: 0.9807 - val_loss: 0.0161 - val_accuracy: 0.9960\n",
            "Epoch 11/50\n",
            "579/579 [==============================] - 25s 42ms/step - loss: 0.0686 - accuracy: 0.9802 - val_loss: 0.0233 - val_accuracy: 0.9902\n",
            "Epoch 12/50\n",
            "579/579 [==============================] - 24s 42ms/step - loss: 0.0639 - accuracy: 0.9820 - val_loss: 0.0172 - val_accuracy: 0.9963\n",
            "Epoch 13/50\n",
            "579/579 [==============================] - 24s 42ms/step - loss: 0.0627 - accuracy: 0.9832 - val_loss: 0.0199 - val_accuracy: 0.9935\n",
            "Epoch 14/50\n",
            "579/579 [==============================] - 24s 42ms/step - loss: 0.0574 - accuracy: 0.9848 - val_loss: 0.0168 - val_accuracy: 0.9951\n",
            "Epoch 15/50\n",
            "579/579 [==============================] - 24s 42ms/step - loss: 0.0580 - accuracy: 0.9849 - val_loss: 0.0314 - val_accuracy: 0.9875\n",
            "Epoch 16/50\n",
            "579/579 [==============================] - 24s 41ms/step - loss: 0.0599 - accuracy: 0.9841 - val_loss: 0.0180 - val_accuracy: 0.9939\n",
            "Epoch 17/50\n",
            "579/579 [==============================] - 24s 42ms/step - loss: 0.0565 - accuracy: 0.9843 - val_loss: 0.0163 - val_accuracy: 0.9945\n",
            "Epoch 18/50\n",
            "579/579 [==============================] - 24s 41ms/step - loss: 0.0609 - accuracy: 0.9837 - val_loss: 0.0143 - val_accuracy: 0.9969\n",
            "Epoch 19/50\n",
            "579/579 [==============================] - 24s 42ms/step - loss: 0.0623 - accuracy: 0.9848 - val_loss: 0.0323 - val_accuracy: 0.9840\n",
            "Epoch 20/50\n",
            "579/579 [==============================] - 25s 44ms/step - loss: 0.0455 - accuracy: 0.9874 - val_loss: 0.0154 - val_accuracy: 0.9959\n",
            "Epoch 21/50\n",
            "579/579 [==============================] - 26s 44ms/step - loss: 0.0532 - accuracy: 0.9860 - val_loss: 0.0147 - val_accuracy: 0.9964\n",
            "Epoch 22/50\n",
            "579/579 [==============================] - 26s 44ms/step - loss: 0.0520 - accuracy: 0.9851 - val_loss: 0.0143 - val_accuracy: 0.9949\n",
            "Epoch 23/50\n",
            "579/579 [==============================] - 25s 42ms/step - loss: 0.0605 - accuracy: 0.9855 - val_loss: 0.0154 - val_accuracy: 0.9966\n",
            "Epoch 24/50\n",
            "579/579 [==============================] - 24s 41ms/step - loss: 0.0573 - accuracy: 0.9855 - val_loss: 0.0134 - val_accuracy: 0.9949\n",
            "Epoch 25/50\n",
            "579/579 [==============================] - 24s 41ms/step - loss: 0.0630 - accuracy: 0.9852 - val_loss: 0.0130 - val_accuracy: 0.9966\n",
            "Epoch 26/50\n",
            "579/579 [==============================] - 24s 42ms/step - loss: 0.0510 - accuracy: 0.9867 - val_loss: 0.0169 - val_accuracy: 0.9930\n",
            "Epoch 27/50\n",
            "579/579 [==============================] - 25s 43ms/step - loss: 0.0417 - accuracy: 0.9889 - val_loss: 0.0138 - val_accuracy: 0.9971\n",
            "Epoch 28/50\n",
            "579/579 [==============================] - 28s 49ms/step - loss: 0.0516 - accuracy: 0.9872 - val_loss: 0.0145 - val_accuracy: 0.9970\n",
            "Epoch 29/50\n",
            "579/579 [==============================] - 25s 44ms/step - loss: 0.0458 - accuracy: 0.9886 - val_loss: 0.0223 - val_accuracy: 0.9954\n",
            "Epoch 30/50\n",
            "579/579 [==============================] - 24s 41ms/step - loss: 0.0469 - accuracy: 0.9881 - val_loss: 0.0132 - val_accuracy: 0.9970\n",
            "Epoch 31/50\n",
            "579/579 [==============================] - 24s 42ms/step - loss: 0.0564 - accuracy: 0.9870 - val_loss: 0.0116 - val_accuracy: 0.9974\n",
            "Epoch 32/50\n",
            "579/579 [==============================] - 24s 42ms/step - loss: 0.0506 - accuracy: 0.9868 - val_loss: 0.0162 - val_accuracy: 0.9952\n",
            "Epoch 33/50\n",
            "579/579 [==============================] - 24s 41ms/step - loss: 0.0532 - accuracy: 0.9868 - val_loss: 0.0136 - val_accuracy: 0.9971\n",
            "Epoch 34/50\n",
            "579/579 [==============================] - 23s 40ms/step - loss: 0.0437 - accuracy: 0.9893 - val_loss: 0.0251 - val_accuracy: 0.9930\n",
            "Epoch 35/50\n",
            "579/579 [==============================] - 25s 43ms/step - loss: 0.0609 - accuracy: 0.9858 - val_loss: 0.0104 - val_accuracy: 0.9973\n",
            "Epoch 36/50\n",
            "579/579 [==============================] - 24s 41ms/step - loss: 0.0485 - accuracy: 0.9895 - val_loss: 0.0103 - val_accuracy: 0.9973\n",
            "Epoch 37/50\n",
            "579/579 [==============================] - 24s 41ms/step - loss: 0.0525 - accuracy: 0.9881 - val_loss: 0.0085 - val_accuracy: 0.9978\n",
            "Epoch 38/50\n",
            "579/579 [==============================] - 24s 41ms/step - loss: 0.0416 - accuracy: 0.9899 - val_loss: 0.0120 - val_accuracy: 0.9974\n",
            "Epoch 39/50\n",
            "579/579 [==============================] - 24s 41ms/step - loss: 0.0574 - accuracy: 0.9872 - val_loss: 0.0141 - val_accuracy: 0.9972\n",
            "Epoch 40/50\n",
            "579/579 [==============================] - 24s 42ms/step - loss: 0.0460 - accuracy: 0.9894 - val_loss: 0.0124 - val_accuracy: 0.9974\n",
            "Epoch 41/50\n",
            "579/579 [==============================] - 24s 42ms/step - loss: 0.0487 - accuracy: 0.9888 - val_loss: 0.0108 - val_accuracy: 0.9962\n",
            "Epoch 42/50\n",
            "579/579 [==============================] - 26s 45ms/step - loss: 0.0396 - accuracy: 0.9905 - val_loss: 0.0126 - val_accuracy: 0.9969\n",
            "Epoch 43/50\n",
            "579/579 [==============================] - 26s 44ms/step - loss: 0.0439 - accuracy: 0.9893 - val_loss: 0.0117 - val_accuracy: 0.9972\n",
            "Epoch 44/50\n",
            "579/579 [==============================] - 26s 45ms/step - loss: 0.0446 - accuracy: 0.9897 - val_loss: 0.0113 - val_accuracy: 0.9976\n",
            "Epoch 45/50\n",
            "579/579 [==============================] - 28s 48ms/step - loss: 0.0526 - accuracy: 0.9879 - val_loss: 0.0258 - val_accuracy: 0.9893\n",
            "Epoch 46/50\n",
            "579/579 [==============================] - 27s 47ms/step - loss: 0.0552 - accuracy: 0.9877 - val_loss: 0.0108 - val_accuracy: 0.9968\n",
            "Epoch 47/50\n",
            "579/579 [==============================] - 34s 58ms/step - loss: 0.0538 - accuracy: 0.9903 - val_loss: 0.0140 - val_accuracy: 0.9968\n",
            "Epoch 48/50\n",
            "579/579 [==============================] - 30s 52ms/step - loss: 0.0561 - accuracy: 0.9888 - val_loss: 0.0102 - val_accuracy: 0.9972\n",
            "Epoch 49/50\n",
            "579/579 [==============================] - 29s 50ms/step - loss: 0.0470 - accuracy: 0.9896 - val_loss: 0.0108 - val_accuracy: 0.9961\n",
            "Epoch 50/50\n",
            "579/579 [==============================] - 28s 48ms/step - loss: 0.0597 - accuracy: 0.9884 - val_loss: 0.0127 - val_accuracy: 0.9968\n"
          ]
        },
        {
          "data": {
            "text/plain": [
              "<keras.callbacks.History at 0x1d34b5a2550>"
            ]
          },
          "execution_count": 13,
          "metadata": {},
          "output_type": "execute_result"
        }
      ],
      "source": [
        "model.fit(X_train, y_train, epochs = 50, batch_size = 64, validation_split = 0.2)"
      ]
    },
    {
      "cell_type": "code",
      "execution_count": 14,
      "metadata": {
        "colab": {
          "base_uri": "https://localhost:8080/"
        },
        "id": "APJrH5DCZPVz",
        "outputId": "e76defc1-3779-4590-ffc8-b2de65864047"
      },
      "outputs": [
        {
          "data": {
            "text/plain": [
              "[0.017474211752414703, 0.9974061846733093]"
            ]
          },
          "execution_count": 14,
          "metadata": {},
          "output_type": "execute_result"
        }
      ],
      "source": [
        "model.evaluate(X_test, y_test, verbose = 0)"
      ]
    },
    {
      "cell_type": "code",
      "execution_count": 15,
      "metadata": {
        "colab": {
          "base_uri": "https://localhost:8080/"
        },
        "id": "PMScXAuychzn",
        "outputId": "421238f9-dbfb-4be5-bad7-da5fdbf9dce9"
      },
      "outputs": [
        {
          "name": "stdout",
          "output_type": "stream",
          "text": [
            "362/362 [==============================] - 2s 6ms/step\n",
            "Accuracy: 0.9974061905585336\n",
            "Precision: 0.9980108912030984\n",
            "Recall: 0.9967077774709403\n",
            "F1-score: 0.9973119288743942\n"
          ]
        }
      ],
      "source": [
        "# evaluate the model on the validation set and compute performance metrics\n",
        "y_val_pred = model.predict(X_test)\n",
        "y_val_pred_classes = np.argmax(y_val_pred, axis=1)\n",
        "acc = accuracy_score(y_test, y_val_pred_classes)\n",
        "prec = precision_score(y_test, y_val_pred_classes, average='macro')\n",
        "rec = recall_score(y_test, y_val_pred_classes, average='macro')\n",
        "f1 = f1_score(y_test, y_val_pred_classes, average='macro')\n",
        "print(\"Accuracy:\", acc)\n",
        "print(\"Precision:\", prec)\n",
        "print(\"Recall:\", rec)\n",
        "print(\"F1-score:\", f1)"
      ]
    },
    {
      "cell_type": "code",
      "execution_count": 16,
      "metadata": {
        "id": "yphwMRARaZVL"
      },
      "outputs": [],
      "source": [
        "model.save(\"model.h5\")"
      ]
    },
    {
      "cell_type": "code",
      "execution_count": null,
      "metadata": {},
      "outputs": [],
      "source": []
    },
    {
      "cell_type": "code",
      "execution_count": null,
      "metadata": {},
      "outputs": [],
      "source": []
    }
  ],
  "metadata": {
    "colab": {
      "provenance": []
    },
    "kernelspec": {
      "display_name": "Python 3",
      "name": "python3"
    },
    "language_info": {
      "codemirror_mode": {
        "name": "ipython",
        "version": 3
      },
      "file_extension": ".py",
      "mimetype": "text/x-python",
      "name": "python",
      "nbconvert_exporter": "python",
      "pygments_lexer": "ipython3",
      "version": "3.8.8"
    }
  },
  "nbformat": 4,
  "nbformat_minor": 0
}
